{
  "nbformat": 4,
  "nbformat_minor": 0,
  "metadata": {
    "colab": {
      "provenance": []
    },
    "kernelspec": {
      "name": "python3",
      "display_name": "Python 3"
    },
    "language_info": {
      "name": "python"
    }
  },
  "cells": [
    {
      "cell_type": "code",
      "execution_count": null,
      "metadata": {
        "id": "gZbEsDkq5MVY"
      },
      "outputs": [],
      "source": [
        "import os"
      ]
    },
    {
      "cell_type": "code",
      "source": [
        "from google.colab import drive\n",
        "drive.mount('/content/drive')\n"
      ],
      "metadata": {
        "colab": {
          "base_uri": "https://localhost:8080/"
        },
        "id": "rw4PFDgGAWcG",
        "outputId": "1b596e30-4d42-4e00-b584-24c23b1a6de6"
      },
      "execution_count": null,
      "outputs": [
        {
          "output_type": "stream",
          "name": "stdout",
          "text": [
            "Drive already mounted at /content/drive; to attempt to forcibly remount, call drive.mount(\"/content/drive\", force_remount=True).\n"
          ]
        }
      ]
    },
    {
      "cell_type": "markdown",
      "source": [],
      "metadata": {
        "id": "YzbTQV5O4DgY"
      }
    },
    {
      "cell_type": "markdown",
      "source": [
        "#סעיף א"
      ],
      "metadata": {
        "id": "DG6Mz3U_Q_Xv"
      }
    },
    {
      "cell_type": "markdown",
      "source": [
        "הוספה למילון"
      ],
      "metadata": {
        "id": "TFnsm3GuPQYe"
      }
    },
    {
      "cell_type": "code",
      "source": [
        "import numpy as np\n",
        "errors = {}\n",
        "def count_error(lines):\n",
        "    for line in lines:\n",
        "        if \"Error\" in line:\n",
        "           error_type = line.split(\"_\")[1].strip()\n",
        "           errors[error_type] = errors.get(error_type, 0) + 1\n"
      ],
      "metadata": {
        "id": "tXz8kBVaDTFh"
      },
      "execution_count": null,
      "outputs": []
    },
    {
      "cell_type": "markdown",
      "source": [
        "חלוקה לקבוצות של 10000\n",
        "\n"
      ],
      "metadata": {
        "id": "RvH15qqePRvt"
      }
    },
    {
      "cell_type": "code",
      "source": [
        "\n",
        "def divide_10000(file_path):\n",
        "    with open(file_path, 'r') as file:\n",
        "      while True:\n",
        "        lines = [file.readline() for _ in range(10000)]\n",
        "        lines = [line for line in lines if line]\n",
        "        if not lines:\n",
        "             return\n",
        "        count_error(lines)"
      ],
      "metadata": {
        "id": "UEJSMYE_9MNV"
      },
      "execution_count": null,
      "outputs": []
    },
    {
      "cell_type": "markdown",
      "source": [],
      "metadata": {
        "id": "2uPB5t0OjsHx"
      }
    },
    {
      "cell_type": "code",
      "source": [
        "import numpy as np\n",
        "\n",
        "def find_N(file_path, N):\n",
        "    global errors\n",
        "    errors = {}\n",
        "    divide_10000(file_path)\n",
        "\n",
        "    unique_values = list(errors.values())\n",
        "    unique_count = len(set(unique_values))\n",
        "\n",
        "    if unique_count <= N:\n",
        "        result = [(key, value) for key, value in errors.items()]\n",
        "    else:\n",
        "        kth_smallest = np.partition(unique_values, unique_count - N)[unique_count - N]\n",
        "        result = [(key, value) for key, value in errors.items() if value >= kth_smallest]\n",
        "        result = result[:N]\n",
        "    for code, count in result:\n",
        "        print(f\"Error {code}: {count} times\")\n"
      ],
      "metadata": {
        "id": "zTKH6sDc9p6X"
      },
      "execution_count": null,
      "outputs": []
    },
    {
      "cell_type": "code",
      "source": [
        "find_N('/content/drive/MyDrive/בינה מלאכותית/logs1.txt', 5)"
      ],
      "metadata": {
        "id": "JykGWmgRjicX",
        "colab": {
          "base_uri": "https://localhost:8080/"
        },
        "outputId": "c8fcbe44-ea4b-4e1c-84f9-e94472ad491e"
      },
      "execution_count": null,
      "outputs": [
        {
          "output_type": "stream",
          "name": "stdout",
          "text": [
            "Error 400\": 200069 times\n",
            "Error 500\": 199808 times\n",
            "Error 200\": 199931 times\n",
            "Error 101\": 200098 times\n",
            "Error 404\": 200094 times\n"
          ]
        }
      ]
    },
    {
      "cell_type": "markdown",
      "source": [
        "סיבוכיות זמן:O(n)הפעולה partition ללא מיון של המערך"
      ],
      "metadata": {
        "id": "6wpo1V-GKUQO"
      }
    },
    {
      "cell_type": "markdown",
      "source": [
        "סיבוכיות מקום:O(k)-מילון בגודל של מספר הערכים היחודיים"
      ],
      "metadata": {
        "id": "lraZXcSuLInq"
      }
    },
    {
      "cell_type": "code",
      "source": [],
      "metadata": {
        "id": "NhSAY4H78cdd"
      },
      "execution_count": null,
      "outputs": []
    }
  ]
}